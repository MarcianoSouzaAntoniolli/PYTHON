{
  "cells": [
    {
      "cell_type": "code",
      "execution_count": 4,
      "metadata": {
        "colab": {
          "base_uri": "https://localhost:8080/"
        },
        "id": "mAVbFCNF5IJ3",
        "outputId": "0adddfb4-b8f7-436f-a811-06fcf7edbc59"
      },
      "outputs": [
        {
          "name": "stdout",
          "output_type": "stream",
          "text": [
            "Hello Word!!\n",
            "Ola Mundo!!\n"
          ]
        }
      ],
      "source": [
        "print(\"Hello Word!!\");\n",
        "print(\"Ola Mundo!!\");"
      ]
    },
    {
      "cell_type": "code",
      "execution_count": 6,
      "metadata": {
        "colab": {
          "base_uri": "https://localhost:8080/"
        },
        "id": "-DNaZOqu8SA5",
        "outputId": "f518993e-1f0b-4967-baa9-c626d687850a"
      },
      "outputs": [
        {
          "name": "stdout",
          "output_type": "stream",
          "text": [
            "Informe a Idade:18\n",
            "18\n"
          ]
        }
      ],
      "source": [
        "#variavel do tipo inteiro *int*\n",
        "idade = 18\n",
        "print(idade);"
      ]
    },
    {
      "cell_type": "code",
      "execution_count": null,
      "metadata": {
        "id": "EiNfeuBM8lTZ"
      },
      "outputs": [],
      "source": [
        "#variavel do tipo real *float*\n",
        "altura = 1.75;\n",
        "print(altura);"
      ]
    },
    {
      "cell_type": "code",
      "execution_count": 7,
      "metadata": {
        "colab": {
          "base_uri": "https://localhost:8080/"
        },
        "id": "s9yRSLOV872x",
        "outputId": "394814fd-27e6-4d58-b31f-9383cdc3c1b9"
      },
      "outputs": [
        {
          "name": "stdout",
          "output_type": "stream",
          "text": [
            "Marciano Antoniolli\n"
          ]
        }
      ],
      "source": [
        "#varivel do tipo de dado string(Texto) *string*\n",
        "nome = \"Marciano Antoniolli\";\n",
        "print(nome);"
      ]
    },
    {
      "cell_type": "code",
      "execution_count": 11,
      "metadata": {
        "colab": {
          "base_uri": "https://localhost:8080/"
        },
        "id": "9paHaG1-9Pvh",
        "outputId": "8a4f5591-0b1f-43cc-9935-3613be059f7d"
      },
      "outputs": [
        {
          "name": "stdout",
          "output_type": "stream",
          "text": [
            "False True\n"
          ]
        }
      ],
      "source": [
        "#varivel do tipo de dado *boolean*\n",
        "aprovado    = False;\n",
        "reprovador  = True;\n",
        "print(aprovado,reprovador);\n"
      ]
    },
    {
      "cell_type": "code",
      "execution_count": 16,
      "metadata": {
        "colab": {
          "base_uri": "https://localhost:8080/"
        },
        "id": "67bauRg8-BIF",
        "outputId": "5deef33b-ed26-4489-c6ff-4a7704883d1e"
      },
      "outputs": [
        {
          "name": "stdout",
          "output_type": "stream",
          "text": [
            "Informe seu Nome: Marciano Moreira\n",
            "Informe sua data de Nasc: 23/11/1987\n",
            "Informe a sua Idade: 23\n",
            "Nome: Marciano Moreira Data Nasc: 23/11/1987 Idade: 23\n"
          ]
        }
      ],
      "source": [
        "#exemplo de inputs\n",
        "\n",
        "nome      = input(\"Informe seu Nome: \");\n",
        "data_nasc = input(\"Informe sua data de Nasc: \");\n",
        "idade     = input(\"Informe a sua Idade: \");\n",
        "print(f\"Nome: {nome} Data Nasc: {data_nasc} Idade: {idade}\" );"
      ]
    },
    {
      "cell_type": "code",
      "execution_count": 19,
      "metadata": {
        "colab": {
          "base_uri": "https://localhost:8080/"
        },
        "id": "VJocg50tA6IW",
        "outputId": "b7f4ab17-b92f-4ad8-f6ec-d67406f17760"
      },
      "outputs": [
        {
          "name": "stdout",
          "output_type": "stream",
          "text": [
            "Informe seu Nome: MARCIANO\n",
            "Informe sua data de Nasc: 23/11/1987\n",
            "Informe a sua Idade: 37\n",
            "Nome: MARCIANO Data Nasc: 23/11/1987 Idade: 37\n",
            "<class 'str'> <class 'int'> <class 'str'>\n"
          ]
        }
      ],
      "source": [
        "#como ver qual tipo da variavel\n",
        "\n",
        "nome      = input(\"Informe seu Nome: \");\n",
        "data_nasc = input(\"Informe sua data de Nasc: \");\n",
        "idade     = int(input(\"Informe a sua Idade: \"));\n",
        "print(f\"Nome: {nome} Data Nasc: {data_nasc} Idade: {idade}\" );\n",
        "print(type(nome),type(data_nasc),type(idade))"
      ]
    },
    {
      "cell_type": "code",
      "execution_count": 20,
      "metadata": {
        "colab": {
          "base_uri": "https://localhost:8080/"
        },
        "id": "3TQAB1R0Biyn",
        "outputId": "e24c08d1-ca24-4f2e-b8e5-327b75f54325"
      },
      "outputs": [
        {
          "name": "stdout",
          "output_type": "stream",
          "text": [
            "<class 'float'> <class 'str'> <class 'int'> <class 'bool'>\n"
          ]
        }
      ],
      "source": [
        "valor     = 115.5;\n",
        "nome      = \"Marciano\";\n",
        "contador  = 0;\n",
        "correto   = True;\n",
        "print(type(valor),type(nome),type(contador),type(correto))"
      ]
    },
    {
      "cell_type": "code",
      "execution_count": 24,
      "metadata": {
        "colab": {
          "base_uri": "https://localhost:8080/"
        },
        "id": "p61_TCgrO0Ux",
        "outputId": "21f95493-d685-4c24-89e8-1288e0628823"
      },
      "outputs": [
        {
          "name": "stdout",
          "output_type": "stream",
          "text": [
            "Informe o primeiro numero: 50\n",
            "Informe o segundo numero: 3\n",
            "Soma           :  53\n",
            "Subtração      :  47\n",
            "Multiplicação  :  150\n",
            "Divisao        :  16.666666666666668\n",
            "Divisao Inteira:  16.666666666666668\n",
            "Modulo         :  2\n",
            "Modulo         :  125000\n"
          ]
        }
      ],
      "source": [
        "#operadores matematicos\n",
        "numero1       = int(input(\"Informe o primeiro numero: \"));\n",
        "numero2       = int(input(\"Informe o segundo numero: \"));\n",
        "soma          = numero1 + numero2;\n",
        "subt          = numero1 - numero2;\n",
        "mult          = numero1 * numero2;\n",
        "divisao       = numero1 / numero2;\n",
        "divisao_int   = numero1 / numero2;\n",
        "modulo        = numero1 % numero2;\n",
        "exp           = numero1 ** numero2;\n",
        "print(\"Soma           : \",soma);\n",
        "print(\"Subtração      : \",subt);\n",
        "print(\"Multiplicação  : \",mult);\n",
        "print(\"Divisao        : \",divisao);\n",
        "print(\"Divisao Inteira: \",divisao_int);\n",
        "print(\"Modulo         : \",modulo);\n",
        "print(\"Expoente       : \",exp);\n"
      ]
    },
    {
      "cell_type": "code",
      "execution_count": 31,
      "metadata": {
        "colab": {
          "base_uri": "https://localhost:8080/"
        },
        "id": "AjcRLquKQ12E",
        "outputId": "4ce44580-1971-4937-d479-87746fa9e5cc"
      },
      "outputs": [
        {
          "name": "stdout",
          "output_type": "stream",
          "text": [
            "Informe o primeiro numero: 2\n",
            "Informe o segundo numero: 2\n",
            "4\n"
          ]
        }
      ],
      "source": [
        "numero1       = int(input(\"Informe o primeiro numero: \"));\n",
        "numero2       = int(input(\"Informe o segundo numero: \"));\n",
        "print(numero1 + numero2);"
      ]
    },
    {
      "cell_type": "code",
      "execution_count": null,
      "metadata": {},
      "outputs": [],
      "source": [
        "x = 5;\n",
        "y = 5;\n",
        "\n",
        "print(x > y );\n",
        "print(x >= y );\n",
        "\n",
        "print(x > y  and x >= y);"
      ]
    },
    {
      "cell_type": "code",
      "execution_count": null,
      "metadata": {},
      "outputs": [],
      "source": [
        "x = 5;\n",
        "y = 5;\n",
        "\n",
        "\n",
        "print(x is y );\n",
        "\n",
        "print(id(x), id(y));"
      ]
    }
  ],
  "metadata": {
    "colab": {
      "provenance": []
    },
    "kernelspec": {
      "display_name": "Python 3",
      "name": "python3"
    },
    "language_info": {
      "name": "python"
    }
  },
  "nbformat": 4,
  "nbformat_minor": 0
}
