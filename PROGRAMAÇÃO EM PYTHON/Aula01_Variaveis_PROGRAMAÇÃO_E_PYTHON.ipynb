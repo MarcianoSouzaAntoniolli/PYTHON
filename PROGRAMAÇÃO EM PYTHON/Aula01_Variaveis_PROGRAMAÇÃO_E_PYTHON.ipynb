{
  "nbformat": 4,
  "nbformat_minor": 0,
  "metadata": {
    "colab": {
      "provenance": []
    },
    "kernelspec": {
      "name": "python3",
      "display_name": "Python 3"
    },
    "language_info": {
      "name": "python"
    }
  },
  "cells": [
    {
      "cell_type": "code",
      "execution_count": 4,
      "metadata": {
        "colab": {
          "base_uri": "https://localhost:8080/"
        },
        "id": "mAVbFCNF5IJ3",
        "outputId": "0adddfb4-b8f7-436f-a811-06fcf7edbc59"
      },
      "outputs": [
        {
          "output_type": "stream",
          "name": "stdout",
          "text": [
            "Hello Word!!\n",
            "Ola Mundo!!\n"
          ]
        }
      ],
      "source": [
        "print(\"Hello Word!!\");\n",
        "print(\"Ola Mundo!!\");"
      ]
    },
    {
      "cell_type": "code",
      "source": [
        "#variavel do tipo inteiro *int*\n",
        "idade = 18\n",
        "print(idade);"
      ],
      "metadata": {
        "colab": {
          "base_uri": "https://localhost:8080/"
        },
        "id": "-DNaZOqu8SA5",
        "outputId": "f518993e-1f0b-4967-baa9-c626d687850a"
      },
      "execution_count": 6,
      "outputs": [
        {
          "output_type": "stream",
          "name": "stdout",
          "text": [
            "Informe a Idade:18\n",
            "18\n"
          ]
        }
      ]
    },
    {
      "cell_type": "code",
      "source": [
        "#variavel do tipo real *float*\n",
        "altura = 1.75;\n",
        "print(altura);"
      ],
      "metadata": {
        "id": "EiNfeuBM8lTZ"
      },
      "execution_count": null,
      "outputs": []
    },
    {
      "cell_type": "code",
      "source": [
        "#varivel do tipo de dado string(Texto) *string*\n",
        "nome = \"Marciano Antoniolli\";\n",
        "print(nome);"
      ],
      "metadata": {
        "colab": {
          "base_uri": "https://localhost:8080/"
        },
        "id": "s9yRSLOV872x",
        "outputId": "394814fd-27e6-4d58-b31f-9383cdc3c1b9"
      },
      "execution_count": 7,
      "outputs": [
        {
          "output_type": "stream",
          "name": "stdout",
          "text": [
            "Marciano Antoniolli\n"
          ]
        }
      ]
    },
    {
      "cell_type": "code",
      "source": [
        "#varivel do tipo de dado *boolean*\n",
        "aprovado    = False;\n",
        "reprovador  = True;\n",
        "print(aprovado,reprovador);\n"
      ],
      "metadata": {
        "colab": {
          "base_uri": "https://localhost:8080/"
        },
        "id": "9paHaG1-9Pvh",
        "outputId": "8a4f5591-0b1f-43cc-9935-3613be059f7d"
      },
      "execution_count": 11,
      "outputs": [
        {
          "output_type": "stream",
          "name": "stdout",
          "text": [
            "False True\n"
          ]
        }
      ]
    },
    {
      "cell_type": "code",
      "source": [
        "#exemplo de inputs\n",
        "\n",
        "nome      = input(\"Informe seu Nome: \");\n",
        "data_nasc = input(\"Informe sua data de Nasc: \");\n",
        "idade     = input(\"Informe a sua Idade: \");\n",
        "print(f\"Nome: {nome} Data Nasc: {data_nasc} Idade: {idade}\" );"
      ],
      "metadata": {
        "colab": {
          "base_uri": "https://localhost:8080/"
        },
        "id": "67bauRg8-BIF",
        "outputId": "5deef33b-ed26-4489-c6ff-4a7704883d1e"
      },
      "execution_count": 16,
      "outputs": [
        {
          "output_type": "stream",
          "name": "stdout",
          "text": [
            "Informe seu Nome: Marciano Moreira\n",
            "Informe sua data de Nasc: 23/11/1987\n",
            "Informe a sua Idade: 23\n",
            "Nome: Marciano Moreira Data Nasc: 23/11/1987 Idade: 23\n"
          ]
        }
      ]
    },
    {
      "cell_type": "code",
      "source": [
        "#como ver qual tipo da variavel\n",
        "\n",
        "nome      = input(\"Informe seu Nome: \");\n",
        "data_nasc = input(\"Informe sua data de Nasc: \");\n",
        "idade     = int(input(\"Informe a sua Idade: \"));\n",
        "print(f\"Nome: {nome} Data Nasc: {data_nasc} Idade: {idade}\" );\n",
        "print(type(nome),type(data_nasc),type(idade))"
      ],
      "metadata": {
        "colab": {
          "base_uri": "https://localhost:8080/"
        },
        "id": "VJocg50tA6IW",
        "outputId": "b7f4ab17-b92f-4ad8-f6ec-d67406f17760"
      },
      "execution_count": 19,
      "outputs": [
        {
          "output_type": "stream",
          "name": "stdout",
          "text": [
            "Informe seu Nome: MARCIANO\n",
            "Informe sua data de Nasc: 23/11/1987\n",
            "Informe a sua Idade: 37\n",
            "Nome: MARCIANO Data Nasc: 23/11/1987 Idade: 37\n",
            "<class 'str'> <class 'int'> <class 'str'>\n"
          ]
        }
      ]
    },
    {
      "cell_type": "code",
      "source": [
        "valor     = 115.5;\n",
        "nome      = \"Marciano\";\n",
        "contador  = 0;\n",
        "correto   = True;\n",
        "print(type(valor),type(nome),type(contador),type(correto))"
      ],
      "metadata": {
        "colab": {
          "base_uri": "https://localhost:8080/"
        },
        "id": "3TQAB1R0Biyn",
        "outputId": "e24c08d1-ca24-4f2e-b8e5-327b75f54325"
      },
      "execution_count": 20,
      "outputs": [
        {
          "output_type": "stream",
          "name": "stdout",
          "text": [
            "<class 'float'> <class 'str'> <class 'int'> <class 'bool'>\n"
          ]
        }
      ]
    },
    {
      "cell_type": "code",
      "source": [
        "#operadores matematicos\n",
        "numero1       = int(input(\"Informe o primeiro numero: \"));\n",
        "numero2       = int(input(\"Informe o segundo numero: \"));\n",
        "soma          = numero1 + numero2;\n",
        "subt          = numero1 - numero2;\n",
        "mult          = numero1 * numero2;\n",
        "divisao       = numero1 / numero2;\n",
        "divisao_int   = numero1 / numero2;\n",
        "modulo        = numero1 % numero2;\n",
        "exp           = numero1 ** numero2;\n",
        "print(\"Soma           : \",soma);\n",
        "print(\"Subtração      : \",subt);\n",
        "print(\"Multiplicação  : \",mult);\n",
        "print(\"Divisao        : \",divisao);\n",
        "print(\"Divisao Inteira: \",divisao_int);\n",
        "print(\"Modulo         : \",modulo);\n",
        "print(\"Expoente       : \",exp);\n"
      ],
      "metadata": {
        "colab": {
          "base_uri": "https://localhost:8080/"
        },
        "id": "p61_TCgrO0Ux",
        "outputId": "21f95493-d685-4c24-89e8-1288e0628823"
      },
      "execution_count": 24,
      "outputs": [
        {
          "output_type": "stream",
          "name": "stdout",
          "text": [
            "Informe o primeiro numero: 50\n",
            "Informe o segundo numero: 3\n",
            "Soma           :  53\n",
            "Subtração      :  47\n",
            "Multiplicação  :  150\n",
            "Divisao        :  16.666666666666668\n",
            "Divisao Inteira:  16.666666666666668\n",
            "Modulo         :  2\n",
            "Modulo         :  125000\n"
          ]
        }
      ]
    },
    {
      "cell_type": "code",
      "source": [
        "numero1       = int(input(\"Informe o primeiro numero: \"));\n",
        "numero2       = int(input(\"Informe o segundo numero: \"));\n",
        "print(numero1 + numero2);"
      ],
      "metadata": {
        "colab": {
          "base_uri": "https://localhost:8080/"
        },
        "id": "AjcRLquKQ12E",
        "outputId": "4ce44580-1971-4937-d479-87746fa9e5cc"
      },
      "execution_count": 31,
      "outputs": [
        {
          "output_type": "stream",
          "name": "stdout",
          "text": [
            "Informe o primeiro numero: 2\n",
            "Informe o segundo numero: 2\n",
            "4\n"
          ]
        }
      ]
    }
  ]
}