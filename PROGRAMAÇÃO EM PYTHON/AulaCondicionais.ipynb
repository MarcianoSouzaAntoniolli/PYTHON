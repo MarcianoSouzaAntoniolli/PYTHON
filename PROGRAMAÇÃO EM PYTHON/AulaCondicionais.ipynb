{
  "nbformat": 4,
  "nbformat_minor": 0,
  "metadata": {
    "colab": {
      "provenance": []
    },
    "kernelspec": {
      "name": "python3",
      "display_name": "Python 3"
    },
    "language_info": {
      "name": "python"
    }
  },
  "cells": [
    {
      "cell_type": "code",
      "execution_count": null,
      "metadata": {
        "colab": {
          "base_uri": "https://localhost:8080/"
        },
        "id": "iTEmzOnj9Zrl",
        "outputId": "846d0fd0-7d6e-4b50-de0d-cf5689b6d350"
      },
      "outputs": [
        {
          "output_type": "stream",
          "name": "stdout",
          "text": [
            "Informe Sua Idade: 16\n",
            "Voce é Menor de idade ainda mas pode votar\n"
          ]
        }
      ],
      "source": [
        "idade = int(input(\"Informe Sua Idade: \"));\n",
        "if idade >=18:\n",
        "  print(\"Voce é Maior de idade obrigatório voltar\");\n",
        "elif idade >=16:\n",
        "  print(\"Voce é Menor de idade ainda mas pode votar\");\n",
        "else:\n",
        "   print(\"Voce é Menor de idade ainda não pode votar\");\n"
      ]
    },
    {
      "cell_type": "code",
      "source": [
        "idade = int(input(\"Informe Sua Idade: \"));\n",
        "if idade >=18:\n",
        "  votou = input(\"Você votou nesta eleição ? sim ou não \").upper();\n",
        "  if votou == \"SIM\":\n",
        "    print(\"Obrigado por Participar!!!\");\n",
        "  else:\n",
        "    if votou == \"NÃO\":\n",
        "      print(\"Compareça um local de voltação\");\n",
        "    elif votou == \"NÃO SEI\":\n",
        "      print(\"Verifique antes de ir a um local de votação\");\n",
        "    else:\n",
        "      print(\"Opção Inválida\");\n",
        "elif idade >=16:\n",
        "  print(\"Voce é Menor de idade ainda mas pode votar\");\n",
        "else:\n",
        "   print(\"Voce é Menor de idade ainda não pode votar\");"
      ],
      "metadata": {
        "colab": {
          "base_uri": "https://localhost:8080/"
        },
        "id": "Es1855YxFlUC",
        "outputId": "cbd0906e-bed8-4386-f202-62799557aa37"
      },
      "execution_count": null,
      "outputs": [
        {
          "output_type": "stream",
          "name": "stdout",
          "text": [
            "Informe Sua Idade: 37\n",
            "Você votou nesta eleição ? sim ou não NÃO SEI\n",
            "Verifique antes de ir a um local de votação\n"
          ]
        }
      ]
    },
    {
      "cell_type": "code",
      "source": [
        "if 5 >= 10 and 10 < 5 or 10 > 5:\n",
        "  print(\"Bloco é Verdadeiro!!\");"
      ],
      "metadata": {
        "colab": {
          "base_uri": "https://localhost:8080/"
        },
        "id": "7FS_TobJFVPZ",
        "outputId": "1f6d9fb7-c02f-401a-89a6-706e3c3ce010"
      },
      "execution_count": null,
      "outputs": [
        {
          "output_type": "stream",
          "name": "stdout",
          "text": [
            "Bloco é Verdadeiro!!\n"
          ]
        }
      ]
    },
    {
      "cell_type": "code",
      "source": [
        "nome = input(\"Informe Seu Nome: \").upper();\n",
        "\n",
        "match nome:\n",
        "  case \"MARCIANO\":\n",
        "    print(\"Ola \",nome);\n",
        "  case \"MARIA\":\n",
        "    print(\"Ola \",nome);\n",
        "  case _:\n",
        "    print(\"Não te identifiquei\");\n",
        ""
      ],
      "metadata": {
        "colab": {
          "base_uri": "https://localhost:8080/"
        },
        "id": "Oxpp3_o_22Y3",
        "outputId": "9d1a60bb-94af-4b05-f6d2-cdcf177e2371"
      },
      "execution_count": 3,
      "outputs": [
        {
          "output_type": "stream",
          "name": "stdout",
          "text": [
            "Informe Seu Nome: marciano\n",
            "Ola  MARCIANO\n"
          ]
        }
      ]
    },
    {
      "cell_type": "code",
      "source": [
        "operacao = input(\"Informe uma das Operações [+,-,*,/]: \");\n",
        "numero1 = int(input(\"Informe o 1º numero: \"));\n",
        "numero2 = int(input(\"Informe o 2º numero: \"));\n",
        "match operacao:\n",
        "  case \"+\":\n",
        "    m_result = (numero1+numero2);\n",
        "  case \"-\":\n",
        "    m_result = (numero1-numero2);\n",
        "  case \"*\":\n",
        "    m_result = (numero1*numero2);\n",
        "  case \"/\":\n",
        "    m_result = (numero1/numero2);\n",
        "  case _:\n",
        "    print(\"Operação Invalida!!\");\n",
        "\n",
        "print(f\"O resultado da operação {operacao} é = {m_result}\");\n",
        "\n"
      ],
      "metadata": {
        "colab": {
          "base_uri": "https://localhost:8080/"
        },
        "id": "Qi4lzA0I3uy9",
        "outputId": "375c4852-23be-49a8-c748-d6259464622b"
      },
      "execution_count": 4,
      "outputs": [
        {
          "output_type": "stream",
          "name": "stdout",
          "text": [
            "Informe uma das Operações [+,-,*,/]: *\n",
            "Informe o 1º numero: 5\n",
            "Informe o 2º numero: 5\n",
            "O resultado da operação * é = 25\n"
          ]
        }
      ]
    },
    {
      "cell_type": "code",
      "source": [
        "#Ifs Normais\n",
        "nota = int(input(\"Informe a nota do aluno: \"));\n",
        "if nota >= 9:\n",
        "  print(\"Nota Excelente!\");\n",
        "elif nota >= 7:\n",
        "  print(\"Nota Boa!\");\n",
        "else:\n",
        "  print(\"Precisa Melhorar\");\n",
        "\n",
        "#Ternario\n",
        "print(\"Exelente\" if nota >= 9 else \"Bom\" if nota >= 7 else \"Precisa Melhorar\");"
      ],
      "metadata": {
        "colab": {
          "base_uri": "https://localhost:8080/"
        },
        "id": "l0wRE1Kg4y3n",
        "outputId": "ee4588bf-4235-4a7a-a2d9-9dc3022c9a5e"
      },
      "execution_count": 9,
      "outputs": [
        {
          "output_type": "stream",
          "name": "stdout",
          "text": [
            "Informe a nota do aluno: 9\n",
            "Nota Excelente!\n",
            "Exelente\n"
          ]
        }
      ]
    }
  ]
}