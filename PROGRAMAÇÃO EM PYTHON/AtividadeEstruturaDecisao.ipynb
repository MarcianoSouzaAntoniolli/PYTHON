{
  "nbformat": 4,
  "nbformat_minor": 0,
  "metadata": {
    "colab": {
      "provenance": []
    },
    "kernelspec": {
      "name": "python3",
      "display_name": "Python 3"
    },
    "language_info": {
      "name": "python"
    }
  },
  "cells": [
    {
      "cell_type": "markdown",
      "source": [
        "Exercício 2 - Faça um programa que peça dois números inteiros e imprima o maior deles ou se são iguais. Imprima na tela o resultado."
      ],
      "metadata": {
        "id": "dHLwjquy8eFW"
      }
    },
    {
      "cell_type": "code",
      "source": [
        "numero1 = int(input(\"Informe 1º numero inteiro: \"));\n",
        "numero2 = int(input(\"Informe 2º numero inteiro: \"));\n",
        "\n",
        "print(f\"Maior {numero1}\" if numero1 > numero2 else f\"Maior {numero2}\" if numero2 > numero1 else f\"Eles são iguais {numero1} e o {numero2}\");"
      ],
      "metadata": {
        "colab": {
          "base_uri": "https://localhost:8080/"
        },
        "id": "Y3AIbeBN8fZd",
        "outputId": "83a7100a-5adb-463a-ba4a-9bb3e8d54928"
      },
      "execution_count": 16,
      "outputs": [
        {
          "output_type": "stream",
          "name": "stdout",
          "text": [
            "Informe 1º numero inteiro: 2\n",
            "Informe 2º numero inteiro: 2\n",
            "Eles são iguais 2 e o 2\n"
          ]
        }
      ]
    },
    {
      "cell_type": "markdown",
      "source": [
        "Exercício 3 - Faça um programa que peça um número inteiro e diga se ele é par ou ímpar. Use o operador % (resto da divisão) e uma estrutura condicional. Dica: (num % 2) verifica se a divisão tem resto. Imprima na tela o resultado."
      ],
      "metadata": {
        "id": "8J6nchAE-IrJ"
      }
    },
    {
      "cell_type": "code",
      "source": [
        "numero1 = int(input(\"Informe um numero inteiro: \"));\n",
        "print(f\"O numero {numero1} é PAR\" if (numero1 % 2)==0 else f\"O numero {numero1} é IMPAR\" );"
      ],
      "metadata": {
        "colab": {
          "base_uri": "https://localhost:8080/"
        },
        "id": "WDzSFOL6-LEa",
        "outputId": "d9ad4f89-41d0-400d-a0a1-e4eda24b4a03"
      },
      "execution_count": 8,
      "outputs": [
        {
          "output_type": "stream",
          "name": "stdout",
          "text": [
            "Informe um numero inteiro: 10\n",
            "O numero 10 é PAR\n"
          ]
        }
      ]
    },
    {
      "cell_type": "markdown",
      "source": [
        "Exercício 4 - Faça um programa que peça três números inteiros e imprima o maior e o menor deles. Use estruturas condicionais. Imprima na tela o resultado."
      ],
      "metadata": {
        "id": "puHr_Auf-p7m"
      }
    },
    {
      "cell_type": "code",
      "source": [
        "numero1 = int(input(\"Informe 1º numero inteiro: \"));\n",
        "numero2 = int(input(\"Informe 2º numero inteiro: \"));\n",
        "numero3 = int(input(\"Informe 3º numero inteiro: \"));\n",
        "\n",
        "if (numero1 > numero2) and (numero1 > numero3):\n",
        "  maior = numero1;\n",
        "  if (numero2 > numero3):\n",
        "    menor = numero3;\n",
        "  else:\n",
        "    menor = numero2;\n",
        "elif (numero2 > numero1) and (numero2 > numero3):\n",
        "  maior = numero2;\n",
        "  if (numero1 > numero3):\n",
        "    menor = numero3;\n",
        "  else:\n",
        "    menor = numero1;\n",
        "elif (numero3 > numero1) and (numero3 > numero2):\n",
        "  maior = numero3;\n",
        "  if (numero1 > numero2):\n",
        "    menor = numero2;\n",
        "  else:\n",
        "    menor = numero1;\n",
        "\n",
        "print(f\"Maior numero é o : {maior}\");\n",
        "print(f\"Menor numero é o : {menor}\");\n"
      ],
      "metadata": {
        "colab": {
          "base_uri": "https://localhost:8080/"
        },
        "id": "DeWIiQ2z-qe9",
        "outputId": "ecf97986-f8af-457c-fb11-8148510d1479"
      },
      "execution_count": 13,
      "outputs": [
        {
          "output_type": "stream",
          "name": "stdout",
          "text": [
            "Informe 1º numero inteiro: 1\n",
            "Informe 2º numero inteiro: 5\n",
            "Informe 3º numero inteiro: 6\n",
            "Maior numero é o : 6\n",
            "Menor numero é o : 1\n"
          ]
        }
      ]
    },
    {
      "cell_type": "markdown",
      "source": [
        "Exercício 5 - Faça um programa que calcule a média de um aluno que faz duas provas. O programa deve pedir as duas notas, calcular a média e imprimir se o aluno foi aprovado, reprovado ou está em exame. Considere a média para aprovação 6.0. Imprima na tela o resultado."
      ],
      "metadata": {
        "id": "XSfVaySCAT9T"
      }
    },
    {
      "cell_type": "code",
      "source": [
        "nota1 = float(input(\"Informe a nota da 1ª prova: \"));\n",
        "nota2 = float(input(\"Informe a nota da 2ª prova: \"));\n",
        "\n",
        "media = (nota1+nota2)/2;\n",
        "\n",
        "print(f\"Aluno APROVADO nota {media}\" if media >= 6.0 else f\"Aluno de EXAME nota {media}\" if media > 4.0 else f\" Aluno REPROVADO nota {media}\");"
      ],
      "metadata": {
        "colab": {
          "base_uri": "https://localhost:8080/"
        },
        "id": "PR4iFK7hAYAr",
        "outputId": "d3859d32-c240-472d-a984-0706fd2a7327"
      },
      "execution_count": 20,
      "outputs": [
        {
          "output_type": "stream",
          "name": "stdout",
          "text": [
            "Informe a nota da 1ª prova: 5\n",
            "Informe a nota da 2ª prova: 2\n",
            " Aluno REPROVADO nota 3.5\n"
          ]
        }
      ]
    },
    {
      "cell_type": "markdown",
      "source": [
        "Exercício 6 - Faça um programa que peça o dia da semana (domingo a sábado) em número inteiro e imprima o dia por extenso. Use um comando condicional. Imprima na tela o resultado."
      ],
      "metadata": {
        "id": "aju2WIoBC4jq"
      }
    },
    {
      "cell_type": "code",
      "source": [
        "dia_semana = int(input(\"Informe o dia da semana e numeral [1,2,3,4,5,6,7]: \"));\n",
        "match dia_semana:\n",
        "  case 1:\n",
        "    print(\"Segunda-feira\");\n",
        "  case 2:\n",
        "    print(\"Terça-feira\");\n",
        "  case 3:\n",
        "    print(\"Quarta-feira\");\n",
        "  case 4:\n",
        "    print(\"Quinta-feira\");\n",
        "  case 5:\n",
        "    print(\"Sexta-feira\");\n",
        "  case 6:\n",
        "    print(\"Sabádo-feira\");\n",
        "  case 7:\n",
        "    print(\"Domingo-feira\");\n",
        "  case _:\n",
        "    print(\"Opção Inválida!!\");\n",
        "\n",
        ""
      ],
      "metadata": {
        "colab": {
          "base_uri": "https://localhost:8080/"
        },
        "id": "LZsCBqtTC5Z6",
        "outputId": "971a062e-7407-4ac6-b5d6-8ba10914ba42"
      },
      "execution_count": 27,
      "outputs": [
        {
          "output_type": "stream",
          "name": "stdout",
          "text": [
            "Informe o dia da semana e numeral [1,2,3,4,5,6,7]: 7\n",
            "Domingo-feira\n"
          ]
        }
      ]
    },
    {
      "cell_type": "markdown",
      "source": [
        "Exercício 7 - Faça um programa que receba um número inteiro e diga se ele é divisível por 2 e 3, só por 2, só por 3, ou se não é divisível por 2 e nem por 3. Use estruturas condicionais. Imprima na tela o resultado."
      ],
      "metadata": {
        "id": "h8Lk5H_oDwP7"
      }
    },
    {
      "cell_type": "code",
      "source": [
        "numero1 = int(input(\"Informe 1º numero inteiro: \"));\n",
        "\n",
        "if (numero1 % 2) == 0 and (numero1 % 3) == 0:\n",
        "  print(f\"O numero digitado {numero1} é divisivél por 2 e por 3\");\n",
        "elif (numero1 % 2) == 0 and (numero1 % 3) != 0:\n",
        "  print(f\"O numero digitado {numero1} é divisivél apenas por 2\");\n",
        "elif (numero1 % 2) != 0 and (numero1 % 3) == 0:\n",
        "  print(f\"O numero digitado {numero1} é divisivél apenas por 3\");\n",
        "else:\n",
        "  print(f\"O numero digitado {numero1} não é divisivél nem por 2 e nem por 3\");\n"
      ],
      "metadata": {
        "colab": {
          "base_uri": "https://localhost:8080/"
        },
        "id": "i8zgD8ZJDww7",
        "outputId": "fa697cf0-4e6f-4175-ae61-7bcac972d255"
      },
      "execution_count": 33,
      "outputs": [
        {
          "output_type": "stream",
          "name": "stdout",
          "text": [
            "Informe 1º numero inteiro: 24\n",
            "O numero digitado 24 é divisivél por 2 e por 3\n"
          ]
        }
      ]
    },
    {
      "cell_type": "markdown",
      "source": [
        "Exercício 8 - Faça um programa que receba duas notas, calcule a média e imprima a situação final (Aprovado com média maior ou igual a 7.0, Reprovado com média menor que 4.0 ou Exame com média entre 4.0 e 7.0). Imprima na tela o resultado."
      ],
      "metadata": {
        "id": "aPtcdYP6FQJC"
      }
    },
    {
      "cell_type": "code",
      "source": [
        "nota1 = float(input(\"Informe a nota da 1ª prova: \"));\n",
        "nota2 = float(input(\"Informe a nota da 2ª prova: \"));\n",
        "\n",
        "media = (nota1+nota2)/2;\n",
        "\n",
        "print(f\"Aluno APROVADO nota {media}\" if media >= 7.0 else f\"Aluno de EXAME nota {media}\" if media >= 4.0 else f\" Aluno REPROVADO nota {media}\");"
      ],
      "metadata": {
        "colab": {
          "base_uri": "https://localhost:8080/"
        },
        "id": "lBTKXejuFQ5j",
        "outputId": "03e48109-6a07-40bb-ab0f-ea45addc1a81"
      },
      "execution_count": 35,
      "outputs": [
        {
          "output_type": "stream",
          "name": "stdout",
          "text": [
            "Informe a nota da 1ª prova: 8\n",
            "Informe a nota da 2ª prova: 9\n",
            "Aluno APROVADO nota 8.5\n"
          ]
        }
      ]
    },
    {
      "cell_type": "markdown",
      "source": [
        "Exercício 9 - Faça um programa que receba o salário de um funcionário e calcule o valor do aumento. Para salários superiores a R$ 1.250,00, calcule um aumento de 10%. Para salários inferiores ou iguais, o aumento é de 15%. Imprima o salário antes e depois do aumento. Imprima na tela o resultado."
      ],
      "metadata": {
        "id": "J0Mj35h0F2vk"
      }
    },
    {
      "cell_type": "code",
      "source": [
        "salario = float(input(\"Informe o valor do seu Salário: \"));\n",
        "\n",
        "if salario > 1250.00:\n",
        "  m_perc     = 10;\n",
        "else:\n",
        "  m_perc     = 15;\n",
        "\n",
        "m_resjuste = (salario * (m_perc/100));\n",
        "reajustado = salario + m_resjuste;\n",
        "\n",
        "print(f\"Salário Atual: R$ {salario}\");\n",
        "print(f\"{m_perc}% do Reajuste é = R$ {m_resjuste}\");\n",
        "print(f\"Salário após do Reajuste: R$ {reajustado}\");\n"
      ],
      "metadata": {
        "colab": {
          "base_uri": "https://localhost:8080/"
        },
        "id": "xZzcLr45F3oC",
        "outputId": "60b8074a-72cf-44d6-de96-782ffec2eb16"
      },
      "execution_count": 42,
      "outputs": [
        {
          "output_type": "stream",
          "name": "stdout",
          "text": [
            "Informe o valor do seu Salário: 10000\n",
            "Salário Atual: R$ 10000.0\n",
            "10% do Reajuste é = R$ 1000.0\n",
            "Salário após do Reajuste: R$ 11000.0\n"
          ]
        }
      ]
    },
    {
      "cell_type": "markdown",
      "source": [
        "Exercício 10 - Faça um programa que leia a idade de uma pessoa, diga se ela é obrigada a votar, se não pode votar ou se é facultativo. Considere que o voto é obrigatório para pessoas entre 18 e 70 anos. Acima de 16 ou acima de 70 facultativo."
      ],
      "metadata": {
        "id": "-pYbBMfoIAh9"
      }
    },
    {
      "cell_type": "code",
      "source": [
        "idade = float(input(\"Informe sua Idade: \"));\n",
        "if idade >= 18 and idade <= 70:\n",
        "  print(\"Você tem Obrigatóriedade em VOTAR!!\");\n",
        "elif idade >= 16 or idade > 70:\n",
        "  print(\"facultativo para  VOTAR!!\");\n",
        "else:\n",
        "  print(\"não pode VOTAR!!\");\n"
      ],
      "metadata": {
        "id": "Y5tF_6TyIFAt"
      },
      "execution_count": null,
      "outputs": []
    },
    {
      "cell_type": "markdown",
      "source": [
        "Extras:\n",
        "Exercício 11 - Faça um programa que pergunte o preço de três produtos e informe qual produto deve ser comprado, sabendo que a decisão é sempre pelo mais barato."
      ],
      "metadata": {
        "id": "fWAysRyOPBsk"
      }
    },
    {
      "cell_type": "code",
      "source": [
        "produto1 = input(\"Informe o nome do 1º Produto:\");\n",
        "preco1   = float(input(\"Informe o preço da 1º produto: \"));\n",
        "\n",
        "produto2 = input(\"Informe o nome do 2º Produto:\");\n",
        "preco2   = float(input(\"Informe o preço da 2º produto: \"));\n",
        "\n",
        "produto3 = input(\"Informe o nome do 3º Produto:\");\n",
        "preco3   = float(input(\"Informe o preço da 3º produto: \"));\n",
        "\n",
        "if (preco1 < preco2) and (preco1 < preco3):\n",
        "  print(f\"Produto mais Barato é o {produto1} no Valor de R$ {preco1}\");\n",
        "elif (preco2 < preco1) and (preco2 < preco3):\n",
        "  print(f\"Produto mais Barato é o {produto2} no Valor de R$ {preco2}\");\n",
        "elif (preco3 < preco1) and (preco3 < preco2):\n",
        "  print(f\"Produto mais Barato é o {produto3} no Valor de R$ {preco3}\");"
      ],
      "metadata": {
        "colab": {
          "base_uri": "https://localhost:8080/"
        },
        "id": "lJwVzIbyPCQ9",
        "outputId": "fc597bb2-0ae3-4ea2-ebef-5aee59879145"
      },
      "execution_count": 44,
      "outputs": [
        {
          "output_type": "stream",
          "name": "stdout",
          "text": [
            "Informe o nome do 1º Produto:BANANA\n",
            "Informe o preço da 1º produto: 12\n",
            "Informe o nome do 2º Produto:UVA\n",
            "Informe o preço da 2º produto: 5\n",
            "Informe o nome do 3º Produto:MANGA\n",
            "Informe o preço da 3º produto: 1\n",
            "Produto mais Barato é o MANGA no Valor de R$ 1.0\n"
          ]
        }
      ]
    },
    {
      "cell_type": "markdown",
      "source": [
        "Exercício 12 - Crie um programa que peça ao usuário dois números e uma operação (adição, subtração, multiplicação ou divisão). Execute a operação escolhida e imprima o resultado."
      ],
      "metadata": {
        "id": "40fFrXVCQrvU"
      }
    },
    {
      "cell_type": "code",
      "source": [
        "operacao = input(\"Informe uma das Operações [+,-,*,/]: \");\n",
        "numero1 = int(input(\"Informe o 1º numero: \"));\n",
        "numero2 = int(input(\"Informe o 2º numero: \"));\n",
        "match operacao:\n",
        "  case \"+\":\n",
        "    m_result = (numero1+numero2);\n",
        "  case \"-\":\n",
        "    m_result = (numero1-numero2);\n",
        "  case \"*\":\n",
        "    m_result = (numero1*numero2);\n",
        "  case \"/\":\n",
        "    m_result = (numero1/numero2);\n",
        "  case _:\n",
        "    print(\"Operação Invalida!!\");\n",
        "\n",
        "print(f\"O resultado da operação {operacao} é = {m_result}\");"
      ],
      "metadata": {
        "id": "UJqxSH3jQumC"
      },
      "execution_count": null,
      "outputs": []
    },
    {
      "cell_type": "markdown",
      "source": [
        "Exercício 13 - Escreva um programa que pergunte a idade do usuário. Se a idade for maior ou igual a 18 anos, imprima \"Você é maior de idade.\", caso contrário, imprima \"Você é menor de idade.\"."
      ],
      "metadata": {
        "id": "3BnMNtkYQ3tc"
      }
    },
    {
      "cell_type": "code",
      "source": [
        "idade = float(input(\"Informe sua Idade: \"));\n",
        "print(\"Você e Maior de idade!!!\" if idade >=18 else \"Você e Menor de idade!!!\" );"
      ],
      "metadata": {
        "colab": {
          "base_uri": "https://localhost:8080/"
        },
        "id": "OTr5MZe7Q6bb",
        "outputId": "6937baaf-5244-4fff-d4c7-8b8c63ac4764"
      },
      "execution_count": 46,
      "outputs": [
        {
          "output_type": "stream",
          "name": "stdout",
          "text": [
            "Informe sua Idade: 20\n",
            "Você e Maior de idade!!!\n"
          ]
        }
      ]
    },
    {
      "cell_type": "markdown",
      "source": [
        "Exercício 14 - Crie um programa que solicite ao usuário um nome de usuário e uma senha. Verifique se o nome de usuário é \"admin\" e a senha é \"12345\". Se ambos estiverem corretos, imprima \"Login bem-sucedido!\", caso contrário, imprima \"Nome de usuário ou senha incorretos!\"."
      ],
      "metadata": {
        "id": "nYiJP13ZRY0X"
      }
    },
    {
      "cell_type": "code",
      "source": [
        "login   = input(\"Informe seu usuario de login: \").lower();\n",
        "senha   = input(\"Informe sua senha de login: \");\n",
        "\n",
        "if (login == \"admin\") and (senha == \"12345\"):\n",
        "  print(\"Login bem-sucedido!\");\n",
        "else:\n",
        "  print(\"Nome de usuário ou senha incorretos!\");"
      ],
      "metadata": {
        "colab": {
          "base_uri": "https://localhost:8080/"
        },
        "id": "lSH0XTw3RepD",
        "outputId": "76061743-af9a-4e0b-872c-f53447cdee49"
      },
      "execution_count": 48,
      "outputs": [
        {
          "output_type": "stream",
          "name": "stdout",
          "text": [
            "Informe seu usuario de login: admin\n",
            "Informe sua senha de login: 1223\n",
            "Nome de usuário ou senha incorretos!\n"
          ]
        }
      ]
    },
    {
      "cell_type": "markdown",
      "source": [
        "Exercício 15 - Peça ao usuário para inserir um ano e verifique se é um ano bissexto ou não. Um ano bissexto é divisível por 4, mas não por 100, a menos que também seja divisível por 400."
      ],
      "metadata": {
        "id": "xnNz0s_LSMp1"
      }
    },
    {
      "cell_type": "code",
      "source": [
        "ano = int(input(\"Informe um ano qualquer: \"));\n",
        "\n",
        "if (ano % 4 ) == 0 and (ano % 100 ) != 0 and (ano % 400 ) != 0:\n",
        "  print(f\"Ano {ano} é Bissexto\");\n",
        "else:\n",
        "  print(f\"Ano {ano} não é Bissexto\");\n",
        ""
      ],
      "metadata": {
        "colab": {
          "base_uri": "https://localhost:8080/"
        },
        "id": "v9otB-udSNaO",
        "outputId": "2f40474d-bc9d-4383-aa06-f3145c61c7bc"
      },
      "execution_count": 52,
      "outputs": [
        {
          "output_type": "stream",
          "name": "stdout",
          "text": [
            "Informe um ano qualquer: 2026\n",
            "Ano 2026 não é Bissexto\n"
          ]
        }
      ]
    },
    {
      "cell_type": "markdown",
      "source": [
        "Exercício 16 - Solicite ao usuário uma nota entre 0 e 100 e classifique-a em \"A\" (90-100), \"B\" (80-89), \"C\" (70-79), \"D\" (60-69) ou \"E\" (abaixo de 60). Imprima a nota e sua classificação correspondente."
      ],
      "metadata": {
        "id": "-28B4khnTPD9"
      }
    },
    {
      "cell_type": "code",
      "source": [
        "nota = int(input(\"Informe uma nota de 0 a 100: \"));\n",
        "\n",
        "if nota >= 90 and nota <= 100:\n",
        "  print(\"NOTA CLASSE A\");\n",
        "elif nota >= 80 and nota <= 89:\n",
        "  print(\"NOTA CLASSE B\");\n",
        "elif nota >= 70 and nota <= 79:\n",
        "  print(\"NOTA CLASSE C\");\n",
        "elif nota >= 60 and nota <= 69:\n",
        "  print(\"NOTA CLASSE D\");\n",
        "elif nota < 60:\n",
        "  print(\"NOTA CLASSE E\");\n",
        "else:\n",
        "  print(\"NOTA INFORMADA INVÁLIDA!!\");"
      ],
      "metadata": {
        "colab": {
          "base_uri": "https://localhost:8080/"
        },
        "id": "Onjaxfp0TQuk",
        "outputId": "2eafe98a-a778-450c-c91f-534fa2225017"
      },
      "execution_count": 59,
      "outputs": [
        {
          "output_type": "stream",
          "name": "stdout",
          "text": [
            "Informe uma nota de 0 a 100: 1545\n",
            "NOTA INFORMADA INVÁLIDA!!\n"
          ]
        }
      ]
    },
    {
      "cell_type": "markdown",
      "source": [
        "Exercício 17 - Escreva um programa que solicite uma nota de 0 a 10 e converta para conceito de A a E de acordo com a seguinte tabela: A: 9-10 B: 8-8.9 C: 7-7.9 D: 6-6.9 E: abaixo de 6."
      ],
      "metadata": {
        "id": "lyumw3mnUb1K"
      }
    },
    {
      "cell_type": "code",
      "source": [
        "nota = float(input(\"Informe uma nota de 0 a 10: \"));\n",
        "if nota >= 9.0 and nota <= 10.0:\n",
        "  print(\"NOTA  A\");\n",
        "elif nota >= 8.0:\n",
        "  print(\"NOTA  B\");\n",
        "elif nota >= 7.0:\n",
        "  print(\"NOTA  C\");\n",
        "elif nota >= 6.0:\n",
        "  print(\"NOTA  D\");\n",
        "elif nota < 6.0:\n",
        "  print(\"NOTA  E\");\n",
        "else:\n",
        "  print(\"NOTA INFORMADA INVÁLIDA!!\");\n"
      ],
      "metadata": {
        "colab": {
          "base_uri": "https://localhost:8080/"
        },
        "id": "nkAwkGeZUcaB",
        "outputId": "0f953e73-b674-4245-e88d-ce0a975d3b04"
      },
      "execution_count": 62,
      "outputs": [
        {
          "output_type": "stream",
          "name": "stdout",
          "text": [
            "Informe uma nota de 0 a 10: 5\n",
            "NOTA  E\n"
          ]
        }
      ]
    },
    {
      "cell_type": "markdown",
      "source": [
        "Exercício 18 - Escreva um programa que solicite um número e indique se é positivo, negativo ou zero."
      ],
      "metadata": {
        "id": "NeNoBhj9Vg39"
      }
    },
    {
      "cell_type": "code",
      "source": [
        "numero = int(input(\"Informe numero inteiro: \"));\n",
        "\n",
        "print(f\"Numero {numero} e POSITIVO!\" if numero > 0 else f\"Numero {numero} e NEGATIVO!\" if numero < 0 else f\"Numero {numero} e ZERO!\")"
      ],
      "metadata": {
        "colab": {
          "base_uri": "https://localhost:8080/"
        },
        "id": "uO9yLw6RVhqb",
        "outputId": "a4141cfb-90bc-4312-89fd-609b99762b41"
      },
      "execution_count": 69,
      "outputs": [
        {
          "output_type": "stream",
          "name": "stdout",
          "text": [
            "Informe numero inteiro: -1\n",
            "Numero -1 e NEGATIVO!\n"
          ]
        }
      ]
    },
    {
      "cell_type": "markdown",
      "source": [
        "Exercício 19 - Crie um programa que solicite o valor de uma compra e calcule o desconto de acordo com a seguinte tabela:\n",
        "5% de desconto para compras de R$ 100 até R$ 500 10% de desconto para compras acima de R$ 500 Exiba o valor final da compra com desconto."
      ],
      "metadata": {
        "id": "a2Tl7fHAWk65"
      }
    },
    {
      "cell_type": "code",
      "source": [
        "compra = float(input(\"Informe de sua compra: \"));\n",
        "if compra >= 100 and compra <= 500:\n",
        "  m_perc    = 5;\n",
        "else:\n",
        "  m_perc    = 10;\n",
        "\n",
        "desconto    = (compra * (m_perc/100));\n",
        "valor_atual = compra - desconto;\n",
        "\n",
        "print(f\"Valor Original da Compra: R$ {compra}\");\n",
        "print(f\"{m_perc}% de desconto   = R$ {desconto}\");\n",
        "print(f\"Valor Liquido da compra : R$ {valor_atual}\");"
      ],
      "metadata": {
        "colab": {
          "base_uri": "https://localhost:8080/"
        },
        "id": "JBAghqagWmI5",
        "outputId": "d89b3d01-2a9e-49ba-b04c-4adf6a939266"
      },
      "execution_count": 71,
      "outputs": [
        {
          "output_type": "stream",
          "name": "stdout",
          "text": [
            "Informe de sua compra: 100\n",
            "Valor Original da Compra: R$ 100.0\n",
            "5% de desconto   = R$ 5.0\n",
            "Valor Liquido da compra : R$ 95.0\n"
          ]
        }
      ]
    },
    {
      "cell_type": "markdown",
      "source": [
        "Exercício 20 - Peça ao usuário seu peso (em kg) e altura (em metros). Calcule o IMC usando a fórmula IMC = peso / (altura * altura) e classifique o resultado como \"Abaixo do peso\", \"Peso normal\", \"Sobrepeso\" ou \"Obesidade\", de acordo com a tabela de classificação do IMC."
      ],
      "metadata": {
        "id": "kc66gHX1XrX_"
      }
    },
    {
      "cell_type": "code",
      "source": [
        "peso   = float(input(\"Informe de seu peso: \"));\n",
        "altura = float(input(\"Informe de sua altura: \"));\n",
        "\n",
        "imc    = peso /(altura * altura);\n",
        "if imc < 18.5:\n",
        "  print(f\"Baixo peso (magreza) seu imc = {imc}\");\n",
        "elif imc >= 18.5 and imc <= 24.9:\n",
        "  print(f\"Peso normal (eutrofia) seu imc = {imc}\");\n",
        "elif imc >= 25.0 and imc <= 29.9:\n",
        "  print(f\"Sobrepeso imc = {imc}\");\n",
        "elif imc >= 30.0 and imc <= 34.9:\n",
        "  print(f\"Obesidade grau I seu imc = {imc}\");\n",
        "elif imc >= 25.0 and imc <= 39.9:\n",
        "  print(f\"Obesidade grau II seu imc = {imc}\");\n",
        "else:\n",
        "  print(f\"Obesidade grau III seu imc = {imc}\");"
      ],
      "metadata": {
        "colab": {
          "base_uri": "https://localhost:8080/"
        },
        "id": "SYFDbVK7XtGv",
        "outputId": "9af3ff60-fead-4220-cc8b-e86c54fede63"
      },
      "execution_count": 74,
      "outputs": [
        {
          "output_type": "stream",
          "name": "stdout",
          "text": [
            "Informe de seu peso: 75\n",
            "Informe de sua altura: 1.65\n",
            "Sobrepeso imc = 27.548209366391188\n"
          ]
        }
      ]
    }
  ]
}